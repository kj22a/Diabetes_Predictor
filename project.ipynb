{
 "cells": [
  {
   "cell_type": "code",
   "execution_count": 1,
   "metadata": {},
   "outputs": [],
   "source": [
    "# Import libraries\n",
    "import pandas as pd\n",
    "import numpy as np\n",
    "import matplotlib.pyplot as plt\n",
    "import seaborn as sns\n",
    "from sklearn import preprocessing \n",
    "from scipy.stats import chi2_contingency , kstest, mannwhitneyu, ttest_ind\n",
    "from sklearn.preprocessing import StandardScaler, OneHotEncoder\n",
    "from sklearn.impute import SimpleImputer\n",
    "import math\n",
    "from sklearn.pipeline import Pipeline\n",
    "from sklearn.decomposition import TruncatedSVD\n",
    "from xgboost import XGBClassifier\n",
    "import statsmodels.api as sm\n",
    "from sklearn.linear_model import LogisticRegression\n",
    "from sklearn.ensemble import VotingClassifier\n",
    "from sklearn.neighbors import KNeighborsClassifier\n",
    "from sklearn import svm\n",
    "from sklearn.tree import DecisionTreeClassifier\n",
    "import pickle\n",
    "from sklearn.naive_bayes import GaussianNB\n",
    "from sklearn.ensemble import RandomForestClassifier, GradientBoostingClassifier, ExtraTreesClassifier, HistGradientBoostingClassifier, AdaBoostClassifier, BaggingClassifier\n",
    "from sklearn.compose import ColumnTransformer\n",
    "from sklearn.model_selection import cross_val_score, GridSearchCV, train_test_split\n",
    "import warnings\n",
    "warnings.filterwarnings(\"ignore\")\n",
    "from sklearn.metrics import accuracy_score, f1_score, confusion_matrix, roc_curve, roc_auc_score\n",
    "from mlxtend.classifier import StackingClassifier\n",
    "from skopt import BayesSearchCV\n",
    "from skopt import gp_minimize\n",
    "import plotly.graph_objects as go\n",
    "from skopt.space import Categorical, Integer, Real\n",
    "import random\n",
    "random.seed(42)\n",
    "%matplotlib inline"
   ]
  },
  {
   "cell_type": "code",
   "execution_count": 2,
   "metadata": {},
   "outputs": [],
   "source": [
    "# Import data\n",
    "diabetes = pd.read_csv(r\"C:\\Users\\karuj\\Downloads\\archive (34)\\diabetes.csv\")"
   ]
  },
  {
   "cell_type": "code",
   "execution_count": 3,
   "metadata": {},
   "outputs": [
    {
     "data": {
      "text/html": [
       "<div>\n",
       "<style scoped>\n",
       "    .dataframe tbody tr th:only-of-type {\n",
       "        vertical-align: middle;\n",
       "    }\n",
       "\n",
       "    .dataframe tbody tr th {\n",
       "        vertical-align: top;\n",
       "    }\n",
       "\n",
       "    .dataframe thead th {\n",
       "        text-align: right;\n",
       "    }\n",
       "</style>\n",
       "<table border=\"1\" class=\"dataframe\">\n",
       "  <thead>\n",
       "    <tr style=\"text-align: right;\">\n",
       "      <th></th>\n",
       "      <th>Pregnancies</th>\n",
       "      <th>Glucose</th>\n",
       "      <th>BloodPressure</th>\n",
       "      <th>SkinThickness</th>\n",
       "      <th>Insulin</th>\n",
       "      <th>BMI</th>\n",
       "      <th>DiabetesPedigreeFunction</th>\n",
       "      <th>Age</th>\n",
       "      <th>Outcome</th>\n",
       "    </tr>\n",
       "  </thead>\n",
       "  <tbody>\n",
       "    <tr>\n",
       "      <th>0</th>\n",
       "      <td>6</td>\n",
       "      <td>148</td>\n",
       "      <td>72</td>\n",
       "      <td>35</td>\n",
       "      <td>0</td>\n",
       "      <td>33.6</td>\n",
       "      <td>0.627</td>\n",
       "      <td>50</td>\n",
       "      <td>1</td>\n",
       "    </tr>\n",
       "    <tr>\n",
       "      <th>1</th>\n",
       "      <td>1</td>\n",
       "      <td>85</td>\n",
       "      <td>66</td>\n",
       "      <td>29</td>\n",
       "      <td>0</td>\n",
       "      <td>26.6</td>\n",
       "      <td>0.351</td>\n",
       "      <td>31</td>\n",
       "      <td>0</td>\n",
       "    </tr>\n",
       "    <tr>\n",
       "      <th>2</th>\n",
       "      <td>8</td>\n",
       "      <td>183</td>\n",
       "      <td>64</td>\n",
       "      <td>0</td>\n",
       "      <td>0</td>\n",
       "      <td>23.3</td>\n",
       "      <td>0.672</td>\n",
       "      <td>32</td>\n",
       "      <td>1</td>\n",
       "    </tr>\n",
       "    <tr>\n",
       "      <th>3</th>\n",
       "      <td>1</td>\n",
       "      <td>89</td>\n",
       "      <td>66</td>\n",
       "      <td>23</td>\n",
       "      <td>94</td>\n",
       "      <td>28.1</td>\n",
       "      <td>0.167</td>\n",
       "      <td>21</td>\n",
       "      <td>0</td>\n",
       "    </tr>\n",
       "    <tr>\n",
       "      <th>4</th>\n",
       "      <td>0</td>\n",
       "      <td>137</td>\n",
       "      <td>40</td>\n",
       "      <td>35</td>\n",
       "      <td>168</td>\n",
       "      <td>43.1</td>\n",
       "      <td>2.288</td>\n",
       "      <td>33</td>\n",
       "      <td>1</td>\n",
       "    </tr>\n",
       "  </tbody>\n",
       "</table>\n",
       "</div>"
      ],
      "text/plain": [
       "   Pregnancies  Glucose  BloodPressure  SkinThickness  Insulin   BMI  \\\n",
       "0            6      148             72             35        0  33.6   \n",
       "1            1       85             66             29        0  26.6   \n",
       "2            8      183             64              0        0  23.3   \n",
       "3            1       89             66             23       94  28.1   \n",
       "4            0      137             40             35      168  43.1   \n",
       "\n",
       "   DiabetesPedigreeFunction  Age  Outcome  \n",
       "0                     0.627   50        1  \n",
       "1                     0.351   31        0  \n",
       "2                     0.672   32        1  \n",
       "3                     0.167   21        0  \n",
       "4                     2.288   33        1  "
      ]
     },
     "execution_count": 3,
     "metadata": {},
     "output_type": "execute_result"
    }
   ],
   "source": [
    "# Look at the formatting of the data\n",
    "diabetes.head()"
   ]
  },
  {
   "cell_type": "code",
   "execution_count": 4,
   "metadata": {},
   "outputs": [
    {
     "data": {
      "text/html": [
       "<div>\n",
       "<style scoped>\n",
       "    .dataframe tbody tr th:only-of-type {\n",
       "        vertical-align: middle;\n",
       "    }\n",
       "\n",
       "    .dataframe tbody tr th {\n",
       "        vertical-align: top;\n",
       "    }\n",
       "\n",
       "    .dataframe thead th {\n",
       "        text-align: right;\n",
       "    }\n",
       "</style>\n",
       "<table border=\"1\" class=\"dataframe\">\n",
       "  <thead>\n",
       "    <tr style=\"text-align: right;\">\n",
       "      <th></th>\n",
       "      <th>Pregnancies</th>\n",
       "      <th>Glucose</th>\n",
       "      <th>BloodPressure</th>\n",
       "      <th>SkinThickness</th>\n",
       "      <th>Insulin</th>\n",
       "      <th>BMI</th>\n",
       "      <th>DiabetesPedigreeFunction</th>\n",
       "      <th>Age</th>\n",
       "      <th>Outcome</th>\n",
       "    </tr>\n",
       "  </thead>\n",
       "  <tbody>\n",
       "    <tr>\n",
       "      <th>count</th>\n",
       "      <td>768.000000</td>\n",
       "      <td>768.000000</td>\n",
       "      <td>768.000000</td>\n",
       "      <td>768.000000</td>\n",
       "      <td>768.000000</td>\n",
       "      <td>768.000000</td>\n",
       "      <td>768.000000</td>\n",
       "      <td>768.000000</td>\n",
       "      <td>768.000000</td>\n",
       "    </tr>\n",
       "    <tr>\n",
       "      <th>mean</th>\n",
       "      <td>3.845052</td>\n",
       "      <td>120.894531</td>\n",
       "      <td>69.105469</td>\n",
       "      <td>20.536458</td>\n",
       "      <td>79.799479</td>\n",
       "      <td>31.992578</td>\n",
       "      <td>0.471876</td>\n",
       "      <td>33.240885</td>\n",
       "      <td>0.348958</td>\n",
       "    </tr>\n",
       "    <tr>\n",
       "      <th>std</th>\n",
       "      <td>3.369578</td>\n",
       "      <td>31.972618</td>\n",
       "      <td>19.355807</td>\n",
       "      <td>15.952218</td>\n",
       "      <td>115.244002</td>\n",
       "      <td>7.884160</td>\n",
       "      <td>0.331329</td>\n",
       "      <td>11.760232</td>\n",
       "      <td>0.476951</td>\n",
       "    </tr>\n",
       "    <tr>\n",
       "      <th>min</th>\n",
       "      <td>0.000000</td>\n",
       "      <td>0.000000</td>\n",
       "      <td>0.000000</td>\n",
       "      <td>0.000000</td>\n",
       "      <td>0.000000</td>\n",
       "      <td>0.000000</td>\n",
       "      <td>0.078000</td>\n",
       "      <td>21.000000</td>\n",
       "      <td>0.000000</td>\n",
       "    </tr>\n",
       "    <tr>\n",
       "      <th>25%</th>\n",
       "      <td>1.000000</td>\n",
       "      <td>99.000000</td>\n",
       "      <td>62.000000</td>\n",
       "      <td>0.000000</td>\n",
       "      <td>0.000000</td>\n",
       "      <td>27.300000</td>\n",
       "      <td>0.243750</td>\n",
       "      <td>24.000000</td>\n",
       "      <td>0.000000</td>\n",
       "    </tr>\n",
       "    <tr>\n",
       "      <th>50%</th>\n",
       "      <td>3.000000</td>\n",
       "      <td>117.000000</td>\n",
       "      <td>72.000000</td>\n",
       "      <td>23.000000</td>\n",
       "      <td>30.500000</td>\n",
       "      <td>32.000000</td>\n",
       "      <td>0.372500</td>\n",
       "      <td>29.000000</td>\n",
       "      <td>0.000000</td>\n",
       "    </tr>\n",
       "    <tr>\n",
       "      <th>75%</th>\n",
       "      <td>6.000000</td>\n",
       "      <td>140.250000</td>\n",
       "      <td>80.000000</td>\n",
       "      <td>32.000000</td>\n",
       "      <td>127.250000</td>\n",
       "      <td>36.600000</td>\n",
       "      <td>0.626250</td>\n",
       "      <td>41.000000</td>\n",
       "      <td>1.000000</td>\n",
       "    </tr>\n",
       "    <tr>\n",
       "      <th>max</th>\n",
       "      <td>17.000000</td>\n",
       "      <td>199.000000</td>\n",
       "      <td>122.000000</td>\n",
       "      <td>99.000000</td>\n",
       "      <td>846.000000</td>\n",
       "      <td>67.100000</td>\n",
       "      <td>2.420000</td>\n",
       "      <td>81.000000</td>\n",
       "      <td>1.000000</td>\n",
       "    </tr>\n",
       "  </tbody>\n",
       "</table>\n",
       "</div>"
      ],
      "text/plain": [
       "       Pregnancies     Glucose  BloodPressure  SkinThickness     Insulin  \\\n",
       "count   768.000000  768.000000     768.000000     768.000000  768.000000   \n",
       "mean      3.845052  120.894531      69.105469      20.536458   79.799479   \n",
       "std       3.369578   31.972618      19.355807      15.952218  115.244002   \n",
       "min       0.000000    0.000000       0.000000       0.000000    0.000000   \n",
       "25%       1.000000   99.000000      62.000000       0.000000    0.000000   \n",
       "50%       3.000000  117.000000      72.000000      23.000000   30.500000   \n",
       "75%       6.000000  140.250000      80.000000      32.000000  127.250000   \n",
       "max      17.000000  199.000000     122.000000      99.000000  846.000000   \n",
       "\n",
       "              BMI  DiabetesPedigreeFunction         Age     Outcome  \n",
       "count  768.000000                768.000000  768.000000  768.000000  \n",
       "mean    31.992578                  0.471876   33.240885    0.348958  \n",
       "std      7.884160                  0.331329   11.760232    0.476951  \n",
       "min      0.000000                  0.078000   21.000000    0.000000  \n",
       "25%     27.300000                  0.243750   24.000000    0.000000  \n",
       "50%     32.000000                  0.372500   29.000000    0.000000  \n",
       "75%     36.600000                  0.626250   41.000000    1.000000  \n",
       "max     67.100000                  2.420000   81.000000    1.000000  "
      ]
     },
     "execution_count": 4,
     "metadata": {},
     "output_type": "execute_result"
    }
   ],
   "source": [
    "# Check the data stats\n",
    "diabetes.describe()"
   ]
  },
  {
   "cell_type": "code",
   "execution_count": 5,
   "metadata": {},
   "outputs": [
    {
     "data": {
      "text/plain": [
       "(768, 9)"
      ]
     },
     "execution_count": 5,
     "metadata": {},
     "output_type": "execute_result"
    }
   ],
   "source": [
    "# Find the shape of the data\n",
    "(r, c) = diabetes.shape\n",
    "(r,c)"
   ]
  },
  {
   "cell_type": "code",
   "execution_count": 6,
   "metadata": {},
   "outputs": [
    {
     "data": {
      "text/plain": [
       "Pregnancies                  17\n",
       "Glucose                     136\n",
       "BloodPressure                47\n",
       "SkinThickness                51\n",
       "Insulin                     186\n",
       "BMI                         248\n",
       "DiabetesPedigreeFunction    517\n",
       "Age                          52\n",
       "Outcome                       2\n",
       "dtype: int64"
      ]
     },
     "execution_count": 6,
     "metadata": {},
     "output_type": "execute_result"
    }
   ],
   "source": [
    "diabetes.nunique()"
   ]
  },
  {
   "cell_type": "code",
   "execution_count": 7,
   "metadata": {},
   "outputs": [
    {
     "name": "stdout",
     "output_type": "stream",
     "text": [
      "Shape of cleaned DataFrame: (688, 9)\n",
      "Dropped rows:\n",
      "     Pregnancies  Glucose  BloodPressure  SkinThickness  Insulin   BMI  \\\n",
      "88            15      136             70             32      110  37.1   \n",
      "159           17      163             72             41      114  40.9   \n",
      "298           14      100             78             25      184  36.6   \n",
      "455           14      175             62             30        0  33.6   \n",
      "75             1        0             48             20        0  24.7   \n",
      "..           ...      ...            ...            ...      ...   ...   \n",
      "123            5      132             80              0        0  26.8   \n",
      "453            2      119              0              0        0  19.6   \n",
      "459            9      134             74             33       60  25.9   \n",
      "666            4      145             82             18        0  32.5   \n",
      "684            5      136             82              0        0   0.0   \n",
      "\n",
      "     DiabetesPedigreeFunction  Age  Outcome  \n",
      "88                      0.153   43        1  \n",
      "159                     0.817   47        1  \n",
      "298                     0.412   46        1  \n",
      "455                     0.212   38        1  \n",
      "75                      0.140   22        0  \n",
      "..                        ...  ...      ...  \n",
      "123                     0.186   69        0  \n",
      "453                     0.832   72        0  \n",
      "459                     0.460   81        0  \n",
      "666                     0.235   70        1  \n",
      "684                     0.640   69        0  \n",
      "\n",
      "[93 rows x 9 columns]\n"
     ]
    }
   ],
   "source": [
    "def remove_outliers(df, threshold):\n",
    "    dropped_rows = pd.DataFrame()  # DataFrame to store dropped rows\n",
    "\n",
    "    # Iterate through each numeric column\n",
    "    for column in df.select_dtypes(include=np.number):\n",
    "        col_mean = df[column].mean()\n",
    "        col_std = df[column].std()\n",
    "\n",
    "        # Define the upper and lower bounds for outliers\n",
    "        lower_bound = col_mean - threshold * col_std\n",
    "        upper_bound = col_mean + threshold * col_std\n",
    "\n",
    "        # Identify outliers and store the dropped rows\n",
    "        outliers = df[(df[column] < lower_bound) | (df[column] > upper_bound)]\n",
    "        dropped_rows = pd.concat([dropped_rows, outliers])\n",
    "\n",
    "    # Remove outliers from the DataFrame\n",
    "    df_cleaned = df[~df.index.isin(dropped_rows.index)]\n",
    "\n",
    "    return df_cleaned, dropped_rows\n",
    "\n",
    "\n",
    "diabetes, dropped_rows = remove_outliers(diabetes, 3)\n",
    "print(\"Shape of cleaned DataFrame:\", diabetes.shape)\n",
    "print(\"Dropped rows:\")\n",
    "print(dropped_rows)"
   ]
  },
  {
   "cell_type": "code",
   "execution_count": 8,
   "metadata": {},
   "outputs": [
    {
     "data": {
      "text/html": [
       "<div>\n",
       "<style scoped>\n",
       "    .dataframe tbody tr th:only-of-type {\n",
       "        vertical-align: middle;\n",
       "    }\n",
       "\n",
       "    .dataframe tbody tr th {\n",
       "        vertical-align: top;\n",
       "    }\n",
       "\n",
       "    .dataframe thead th {\n",
       "        text-align: right;\n",
       "    }\n",
       "</style>\n",
       "<table border=\"1\" class=\"dataframe\">\n",
       "  <thead>\n",
       "    <tr style=\"text-align: right;\">\n",
       "      <th></th>\n",
       "      <th>Pregnancies</th>\n",
       "      <th>Glucose</th>\n",
       "      <th>BloodPressure</th>\n",
       "      <th>SkinThickness</th>\n",
       "      <th>Insulin</th>\n",
       "      <th>BMI</th>\n",
       "      <th>DiabetesPedigreeFunction</th>\n",
       "      <th>Age</th>\n",
       "      <th>Outcome</th>\n",
       "    </tr>\n",
       "  </thead>\n",
       "  <tbody>\n",
       "    <tr>\n",
       "      <th>0</th>\n",
       "      <td>6</td>\n",
       "      <td>148</td>\n",
       "      <td>72</td>\n",
       "      <td>35</td>\n",
       "      <td>0</td>\n",
       "      <td>33.6</td>\n",
       "      <td>0.627</td>\n",
       "      <td>50</td>\n",
       "      <td>1</td>\n",
       "    </tr>\n",
       "    <tr>\n",
       "      <th>1</th>\n",
       "      <td>1</td>\n",
       "      <td>85</td>\n",
       "      <td>66</td>\n",
       "      <td>29</td>\n",
       "      <td>0</td>\n",
       "      <td>26.6</td>\n",
       "      <td>0.351</td>\n",
       "      <td>31</td>\n",
       "      <td>0</td>\n",
       "    </tr>\n",
       "    <tr>\n",
       "      <th>2</th>\n",
       "      <td>8</td>\n",
       "      <td>183</td>\n",
       "      <td>64</td>\n",
       "      <td>0</td>\n",
       "      <td>0</td>\n",
       "      <td>23.3</td>\n",
       "      <td>0.672</td>\n",
       "      <td>32</td>\n",
       "      <td>1</td>\n",
       "    </tr>\n",
       "    <tr>\n",
       "      <th>3</th>\n",
       "      <td>1</td>\n",
       "      <td>89</td>\n",
       "      <td>66</td>\n",
       "      <td>23</td>\n",
       "      <td>94</td>\n",
       "      <td>28.1</td>\n",
       "      <td>0.167</td>\n",
       "      <td>21</td>\n",
       "      <td>0</td>\n",
       "    </tr>\n",
       "    <tr>\n",
       "      <th>5</th>\n",
       "      <td>5</td>\n",
       "      <td>116</td>\n",
       "      <td>74</td>\n",
       "      <td>0</td>\n",
       "      <td>0</td>\n",
       "      <td>25.6</td>\n",
       "      <td>0.201</td>\n",
       "      <td>30</td>\n",
       "      <td>0</td>\n",
       "    </tr>\n",
       "    <tr>\n",
       "      <th>...</th>\n",
       "      <td>...</td>\n",
       "      <td>...</td>\n",
       "      <td>...</td>\n",
       "      <td>...</td>\n",
       "      <td>...</td>\n",
       "      <td>...</td>\n",
       "      <td>...</td>\n",
       "      <td>...</td>\n",
       "      <td>...</td>\n",
       "    </tr>\n",
       "    <tr>\n",
       "      <th>763</th>\n",
       "      <td>10</td>\n",
       "      <td>101</td>\n",
       "      <td>76</td>\n",
       "      <td>48</td>\n",
       "      <td>180</td>\n",
       "      <td>32.9</td>\n",
       "      <td>0.171</td>\n",
       "      <td>63</td>\n",
       "      <td>0</td>\n",
       "    </tr>\n",
       "    <tr>\n",
       "      <th>764</th>\n",
       "      <td>2</td>\n",
       "      <td>122</td>\n",
       "      <td>70</td>\n",
       "      <td>27</td>\n",
       "      <td>0</td>\n",
       "      <td>36.8</td>\n",
       "      <td>0.340</td>\n",
       "      <td>27</td>\n",
       "      <td>0</td>\n",
       "    </tr>\n",
       "    <tr>\n",
       "      <th>765</th>\n",
       "      <td>5</td>\n",
       "      <td>121</td>\n",
       "      <td>72</td>\n",
       "      <td>23</td>\n",
       "      <td>112</td>\n",
       "      <td>26.2</td>\n",
       "      <td>0.245</td>\n",
       "      <td>30</td>\n",
       "      <td>0</td>\n",
       "    </tr>\n",
       "    <tr>\n",
       "      <th>766</th>\n",
       "      <td>1</td>\n",
       "      <td>126</td>\n",
       "      <td>60</td>\n",
       "      <td>0</td>\n",
       "      <td>0</td>\n",
       "      <td>30.1</td>\n",
       "      <td>0.349</td>\n",
       "      <td>47</td>\n",
       "      <td>1</td>\n",
       "    </tr>\n",
       "    <tr>\n",
       "      <th>767</th>\n",
       "      <td>1</td>\n",
       "      <td>93</td>\n",
       "      <td>70</td>\n",
       "      <td>31</td>\n",
       "      <td>0</td>\n",
       "      <td>30.4</td>\n",
       "      <td>0.315</td>\n",
       "      <td>23</td>\n",
       "      <td>0</td>\n",
       "    </tr>\n",
       "  </tbody>\n",
       "</table>\n",
       "<p>688 rows × 9 columns</p>\n",
       "</div>"
      ],
      "text/plain": [
       "     Pregnancies  Glucose  BloodPressure  SkinThickness  Insulin   BMI  \\\n",
       "0              6      148             72             35        0  33.6   \n",
       "1              1       85             66             29        0  26.6   \n",
       "2              8      183             64              0        0  23.3   \n",
       "3              1       89             66             23       94  28.1   \n",
       "5              5      116             74              0        0  25.6   \n",
       "..           ...      ...            ...            ...      ...   ...   \n",
       "763           10      101             76             48      180  32.9   \n",
       "764            2      122             70             27        0  36.8   \n",
       "765            5      121             72             23      112  26.2   \n",
       "766            1      126             60              0        0  30.1   \n",
       "767            1       93             70             31        0  30.4   \n",
       "\n",
       "     DiabetesPedigreeFunction  Age  Outcome  \n",
       "0                       0.627   50        1  \n",
       "1                       0.351   31        0  \n",
       "2                       0.672   32        1  \n",
       "3                       0.167   21        0  \n",
       "5                       0.201   30        0  \n",
       "..                        ...  ...      ...  \n",
       "763                     0.171   63        0  \n",
       "764                     0.340   27        0  \n",
       "765                     0.245   30        0  \n",
       "766                     0.349   47        1  \n",
       "767                     0.315   23        0  \n",
       "\n",
       "[688 rows x 9 columns]"
      ]
     },
     "execution_count": 8,
     "metadata": {},
     "output_type": "execute_result"
    }
   ],
   "source": [
    "diabetes_copy = diabetes.copy()\n",
    "diabetes_copy"
   ]
  },
  {
   "cell_type": "code",
   "execution_count": 9,
   "metadata": {},
   "outputs": [
    {
     "data": {
      "text/plain": [
       "Pregnancies                 0\n",
       "Glucose                     0\n",
       "BloodPressure               0\n",
       "SkinThickness               0\n",
       "Insulin                     0\n",
       "BMI                         0\n",
       "DiabetesPedigreeFunction    0\n",
       "Age                         0\n",
       "Outcome                     0\n",
       "dtype: int64"
      ]
     },
     "execution_count": 9,
     "metadata": {},
     "output_type": "execute_result"
    }
   ],
   "source": [
    "diabetes_copy.isna().sum()"
   ]
  },
  {
   "cell_type": "code",
   "execution_count": 10,
   "metadata": {},
   "outputs": [
    {
     "name": "stdout",
     "output_type": "stream",
     "text": [
      "0    231\n",
      "1    227\n",
      "Name: Outcome, dtype: int64\n"
     ]
    }
   ],
   "source": [
    "df = diabetes[\"Outcome\"].value_counts()\n",
    "# Get the count of rows where outcome is 0\n",
    "count_outcome_0 = df.get(0, 0)  # Ensure to handle the case where 0 might not exist in the index\n",
    "\n",
    "# Get the indices of rows where outcome is 0\n",
    "indices_outcome_0 = diabetes.index[diabetes[\"Outcome\"] == 0].tolist()  # Convert to list for mutable operations\n",
    "\n",
    "# Shuffle the indices to ensure random selection\n",
    "np.random.shuffle(indices_outcome_0)\n",
    "\n",
    "# Determine the number of rows to drop (half of count_outcome_0)\n",
    "num_rows_to_drop = count_outcome_0 // 2\n",
    "\n",
    "# Drop half of the rows where outcome is 0\n",
    "diabetes.drop(indices_outcome_0[:num_rows_to_drop], inplace=True)\n",
    "\n",
    "# Verify the outcome distribution after dropping rows\n",
    "df_after_drop = diabetes[\"Outcome\"].value_counts()\n",
    "print(df_after_drop)"
   ]
  },
  {
   "cell_type": "code",
   "execution_count": 11,
   "metadata": {},
   "outputs": [
    {
     "data": {
      "text/plain": [
       "(688, 1)"
      ]
     },
     "execution_count": 11,
     "metadata": {},
     "output_type": "execute_result"
    }
   ],
   "source": [
    "columns_less_than_10_unique = []\n",
    "for column in diabetes_copy.columns:\n",
    "    # Count the number of unique values in the column\n",
    "    num_unique_values = diabetes_copy[column].nunique()\n",
    "    # If the number of unique values is less than 10, add the column name to the list\n",
    "    if num_unique_values < 10:\n",
    "        columns_less_than_10_unique.append(column)\n",
    "\n",
    "# Create a new DataFrame with only the columns having less than 10 unique values\n",
    "categorical_variables = diabetes_copy[columns_less_than_10_unique]\n",
    "categorical_variables.shape"
   ]
  },
  {
   "cell_type": "code",
   "execution_count": 12,
   "metadata": {},
   "outputs": [
    {
     "data": {
      "text/plain": [
       "(688, 8)"
      ]
     },
     "execution_count": 12,
     "metadata": {},
     "output_type": "execute_result"
    }
   ],
   "source": [
    "columns_greater_than_10_unique = []\n",
    "for column in diabetes_copy.columns:\n",
    "    # Count the number of unique values in the column\n",
    "    num_unique_values = diabetes_copy[column].nunique()\n",
    "    # If the number of unique values is less than 10, add the column name to the list\n",
    "    if num_unique_values > 10:\n",
    "        columns_greater_than_10_unique.append(column)\n",
    "\n",
    "# Create a new DataFrame with only the columns having less than 10 unique values\n",
    "numerical_variables = diabetes_copy[columns_greater_than_10_unique]\n",
    "numerical_variables.shape"
   ]
  },
  {
   "cell_type": "code",
   "execution_count": 13,
   "metadata": {},
   "outputs": [],
   "source": [
    "scaler = StandardScaler()\n",
    "scaled_numerical_cols = scaler.fit_transform(numerical_variables)\n",
    "numerical_variables = pd.DataFrame(scaled_numerical_cols, columns=numerical_variables.columns)"
   ]
  },
  {
   "cell_type": "code",
   "execution_count": 14,
   "metadata": {},
   "outputs": [
    {
     "data": {
      "text/plain": [
       "<matplotlib.axes._subplots.AxesSubplot at 0x1a26819f448>"
      ]
     },
     "execution_count": 14,
     "metadata": {},
     "output_type": "execute_result"
    },
    {
     "data": {
      "image/png": "[encoded data removed]",
      "text/plain": [
       "<Figure size 432x288 with 1 Axes>"
      ]
     },
     "metadata": {
      "needs_background": "light"
     },
     "output_type": "display_data"
    }
   ],
   "source": [
    "sns.distplot(numerical_variables[\"Pregnancies\"])"
   ]
  },
  {
   "cell_type": "code",
   "execution_count": 15,
   "metadata": {},
   "outputs": [
    {
     "data": {
      "text/plain": [
       "<matplotlib.axes._subplots.AxesSubplot at 0x1a26824f748>"
      ]
     },
     "execution_count": 15,
     "metadata": {},
     "output_type": "execute_result"
    },
    {
     "data": {
      "image/png": "[encoded data removed]",
      "text/plain": [
       "<Figure size 432x288 with 1 Axes>"
      ]
     },
     "metadata": {
      "needs_background": "light"
     },
     "output_type": "display_data"
    }
   ],
   "source": [
    "sns.distplot(numerical_variables[\"Glucose\"])"
   ]
  },
  {
   "cell_type": "code",
   "execution_count": 16,
   "metadata": {},
   "outputs": [
    {
     "data": {
      "text/plain": [
       "<matplotlib.axes._subplots.AxesSubplot at 0x1a268288dc8>"
      ]
     },
     "execution_count": 16,
     "metadata": {},
     "output_type": "execute_result"
    },
    {
     "data": {
      "image/png": "[encoded data removed]",
      "text/plain": [
       "<Figure size 432x288 with 1 Axes>"
      ]
     },
     "metadata": {
      "needs_background": "light"
     },
     "output_type": "display_data"
    }
   ],
   "source": [
    "sns.distplot(numerical_variables[\"BloodPressure\"])"
   ]
  },
  {
   "cell_type": "code",
   "execution_count": 17,
   "metadata": {},
   "outputs": [
    {
     "data": {
      "text/plain": [
       "<matplotlib.axes._subplots.AxesSubplot at 0x1a26832ca48>"
      ]
     },
     "execution_count": 17,
     "metadata": {},
     "output_type": "execute_result"
    },
    {
     "data": {
      "image/png": "[encoded data removed]",
      "text/plain": [
       "<Figure size 432x288 with 1 Axes>"
      ]
     },
     "metadata": {
      "needs_background": "light"
     },
     "output_type": "display_data"
    }
   ],
   "source": [
    "sns.distplot(numerical_variables[\"SkinThickness\"])"
   ]
  },
  {
   "cell_type": "code",
   "execution_count": 18,
   "metadata": {},
   "outputs": [
    {
     "data": {
      "text/plain": [
       "<matplotlib.axes._subplots.AxesSubplot at 0x1a27de02388>"
      ]
     },
     "execution_count": 18,
     "metadata": {},
     "output_type": "execute_result"
    },
    {
     "data": {
      "image/png": "[encoded data removed]",
      "text/plain": [
       "<Figure size 432x288 with 1 Axes>"
      ]
     },
     "metadata": {
      "needs_background": "light"
     },
     "output_type": "display_data"
    }
   ],
   "source": [
    "sns.distplot(numerical_variables[\"Insulin\"])"
   ]
  },
  {
   "cell_type": "code",
   "execution_count": 19,
   "metadata": {},
   "outputs": [
    {
     "data": {
      "text/plain": [
       "<matplotlib.axes._subplots.AxesSubplot at 0x1a27de2bc48>"
      ]
     },
     "execution_count": 19,
     "metadata": {},
     "output_type": "execute_result"
    },
    {
     "data": {
      "image/png": "[encoded data removed]",
      "text/plain": [
       "<Figure size 432x288 with 1 Axes>"
      ]
     },
     "metadata": {
      "needs_background": "light"
     },
     "output_type": "display_data"
    }
   ],
   "source": [
    "sns.distplot(numerical_variables[\"BMI\"])"
   ]
  },
  {
   "cell_type": "code",
   "execution_count": 20,
   "metadata": {},
   "outputs": [
    {
     "data": {
      "text/plain": [
       "<matplotlib.axes._subplots.AxesSubplot at 0x1a27de4fb08>"
      ]
     },
     "execution_count": 20,
     "metadata": {},
     "output_type": "execute_result"
    },
    {
     "data": {
      "image/png": "[encoded data removed]",
      "text/plain": [
       "<Figure size 432x288 with 1 Axes>"
      ]
     },
     "metadata": {
      "needs_background": "light"
     },
     "output_type": "display_data"
    }
   ],
   "source": [
    "sns.distplot(numerical_variables[\"DiabetesPedigreeFunction\"])"
   ]
  },
  {
   "cell_type": "code",
   "execution_count": 21,
   "metadata": {},
   "outputs": [
    {
     "data": {
      "text/plain": [
       "<matplotlib.axes._subplots.AxesSubplot at 0x1a27dffe448>"
      ]
     },
     "execution_count": 21,
     "metadata": {},
     "output_type": "execute_result"
    },
    {
     "data": {
      "image/png": "[encoded data removed]",
      "text/plain": [
       "<Figure size 432x288 with 1 Axes>"
      ]
     },
     "metadata": {
      "needs_background": "light"
     },
     "output_type": "display_data"
    }
   ],
   "source": [
    "sns.distplot(numerical_variables[\"Age\"])"
   ]
  },
  {
   "cell_type": "code",
   "execution_count": 22,
   "metadata": {},
   "outputs": [
    {
     "name": "stdout",
     "output_type": "stream",
     "text": [
      "8.866418098563021e-16\n",
      "0.0002084779952876773\n",
      "0.09560089806247873\n",
      "1.0668656724386887e-21\n",
      "1.0449812626303446e-41\n",
      "0.4568466680586889\n",
      "4.229009502490185e-09\n",
      "4.504565083405106e-15\n",
      "['BloodPressure', 'BMI']\n"
     ]
    }
   ],
   "source": [
    "def kolmogrov_smirnov_test(var):\n",
    "    normal = []\n",
    "    for column in var.columns:\n",
    "        (KSstats, p_value) = kstest(var[column], \"norm\")\n",
    "        alpha = 0.05\n",
    "        if alpha <= p_value:\n",
    "            normal.append(column)\n",
    "        print(p_value)\n",
    "    return normal\n",
    "normal_variables = kolmogrov_smirnov_test(numerical_variables)\n",
    "print(normal_variables)\n",
    "Gaussian_variable = numerical_variables.loc[:, normal_variables]\n",
    "numerical_variables.drop(columns=[normal_variables[0]], inplace=True)"
   ]
  },
  {
   "cell_type": "code",
   "execution_count": 23,
   "metadata": {},
   "outputs": [
    {
     "name": "stdout",
     "output_type": "stream",
     "text": [
      "1.4404635112148445e-06\n",
      "1.394568246388992e-15\n"
     ]
    },
    {
     "data": {
      "text/plain": [
       "[]"
      ]
     },
     "execution_count": 23,
     "metadata": {},
     "output_type": "execute_result"
    }
   ],
   "source": [
    "def t_test (var, target):\n",
    "    rejected = []\n",
    "    for column in var.columns:\n",
    "        grouped_data = [var[column][target.reset_index(drop=True) == category] for category in target.unique()]\n",
    "        t_statistic, p_value = ttest_ind(*grouped_data)\n",
    "        alpha = 0.1\n",
    "        if p_value >= alpha:\n",
    "            rejected.append(column)\n",
    "        print(p_value)\n",
    "    return rejected\n",
    "rejected_variables = t_test(Gaussian_variable, diabetes_copy[\"Outcome\"])\n",
    "rejected_variables"
   ]
  },
  {
   "cell_type": "code",
   "execution_count": 24,
   "metadata": {},
   "outputs": [
    {
     "name": "stdout",
     "output_type": "stream",
     "text": [
      "1.145346590442655e-08\n",
      "7.715507032615492e-34\n",
      "0.03198985784758219\n",
      "0.10610132556223566\n",
      "3.4796772064622975e-14\n",
      "1.820304767347768e-07\n",
      "5.121781434661496e-16\n"
     ]
    },
    {
     "data": {
      "text/plain": [
       "['SkinThickness', 'Insulin']"
      ]
     },
     "execution_count": 24,
     "metadata": {},
     "output_type": "execute_result"
    }
   ],
   "source": [
    "def Mann_Whitney_U_test (var, target):\n",
    "    rejected = []\n",
    "    for column in var.columns:\n",
    "        grouped_data = [var[column][target.reset_index(drop=True) == category] for category in target.unique()]\n",
    "        U_statistic, p_value = mannwhitneyu(*grouped_data)\n",
    "        alpha = 0.01\n",
    "        if p_value >= alpha:\n",
    "            rejected.append(column)\n",
    "        print(p_value)\n",
    "    return rejected\n",
    "rejected_variables2 = Mann_Whitney_U_test(numerical_variables, diabetes_copy[\"Outcome\"])\n",
    "rejected_variables = rejected_variables+rejected_variables2\n",
    "rejected_variables2"
   ]
  },
  {
   "cell_type": "code",
   "execution_count": 25,
   "metadata": {},
   "outputs": [
    {
     "data": {
      "text/html": [
       "<div>\n",
       "<style scoped>\n",
       "    .dataframe tbody tr th:only-of-type {\n",
       "        vertical-align: middle;\n",
       "    }\n",
       "\n",
       "    .dataframe tbody tr th {\n",
       "        vertical-align: top;\n",
       "    }\n",
       "\n",
       "    .dataframe thead th {\n",
       "        text-align: right;\n",
       "    }\n",
       "</style>\n",
       "<table border=\"1\" class=\"dataframe\">\n",
       "  <thead>\n",
       "    <tr style=\"text-align: right;\">\n",
       "      <th></th>\n",
       "      <th>Pregnancies</th>\n",
       "      <th>Glucose</th>\n",
       "      <th>BloodPressure</th>\n",
       "      <th>BMI</th>\n",
       "      <th>Age</th>\n",
       "      <th>Outcome</th>\n",
       "    </tr>\n",
       "  </thead>\n",
       "  <tbody>\n",
       "    <tr>\n",
       "      <th>0</th>\n",
       "      <td>6</td>\n",
       "      <td>148</td>\n",
       "      <td>72</td>\n",
       "      <td>33.6</td>\n",
       "      <td>50</td>\n",
       "      <td>1</td>\n",
       "    </tr>\n",
       "    <tr>\n",
       "      <th>2</th>\n",
       "      <td>8</td>\n",
       "      <td>183</td>\n",
       "      <td>64</td>\n",
       "      <td>23.3</td>\n",
       "      <td>32</td>\n",
       "      <td>1</td>\n",
       "    </tr>\n",
       "    <tr>\n",
       "      <th>6</th>\n",
       "      <td>3</td>\n",
       "      <td>78</td>\n",
       "      <td>50</td>\n",
       "      <td>31.0</td>\n",
       "      <td>26</td>\n",
       "      <td>1</td>\n",
       "    </tr>\n",
       "    <tr>\n",
       "      <th>11</th>\n",
       "      <td>10</td>\n",
       "      <td>168</td>\n",
       "      <td>74</td>\n",
       "      <td>38.0</td>\n",
       "      <td>34</td>\n",
       "      <td>1</td>\n",
       "    </tr>\n",
       "    <tr>\n",
       "      <th>12</th>\n",
       "      <td>10</td>\n",
       "      <td>139</td>\n",
       "      <td>80</td>\n",
       "      <td>27.1</td>\n",
       "      <td>57</td>\n",
       "      <td>0</td>\n",
       "    </tr>\n",
       "    <tr>\n",
       "      <th>...</th>\n",
       "      <td>...</td>\n",
       "      <td>...</td>\n",
       "      <td>...</td>\n",
       "      <td>...</td>\n",
       "      <td>...</td>\n",
       "      <td>...</td>\n",
       "    </tr>\n",
       "    <tr>\n",
       "      <th>760</th>\n",
       "      <td>2</td>\n",
       "      <td>88</td>\n",
       "      <td>58</td>\n",
       "      <td>28.4</td>\n",
       "      <td>22</td>\n",
       "      <td>0</td>\n",
       "    </tr>\n",
       "    <tr>\n",
       "      <th>761</th>\n",
       "      <td>9</td>\n",
       "      <td>170</td>\n",
       "      <td>74</td>\n",
       "      <td>44.0</td>\n",
       "      <td>43</td>\n",
       "      <td>1</td>\n",
       "    </tr>\n",
       "    <tr>\n",
       "      <th>764</th>\n",
       "      <td>2</td>\n",
       "      <td>122</td>\n",
       "      <td>70</td>\n",
       "      <td>36.8</td>\n",
       "      <td>27</td>\n",
       "      <td>0</td>\n",
       "    </tr>\n",
       "    <tr>\n",
       "      <th>765</th>\n",
       "      <td>5</td>\n",
       "      <td>121</td>\n",
       "      <td>72</td>\n",
       "      <td>26.2</td>\n",
       "      <td>30</td>\n",
       "      <td>0</td>\n",
       "    </tr>\n",
       "    <tr>\n",
       "      <th>766</th>\n",
       "      <td>1</td>\n",
       "      <td>126</td>\n",
       "      <td>60</td>\n",
       "      <td>30.1</td>\n",
       "      <td>47</td>\n",
       "      <td>1</td>\n",
       "    </tr>\n",
       "  </tbody>\n",
       "</table>\n",
       "<p>458 rows × 6 columns</p>\n",
       "</div>"
      ],
      "text/plain": [
       "     Pregnancies  Glucose  BloodPressure   BMI  Age  Outcome\n",
       "0              6      148             72  33.6   50        1\n",
       "2              8      183             64  23.3   32        1\n",
       "6              3       78             50  31.0   26        1\n",
       "11            10      168             74  38.0   34        1\n",
       "12            10      139             80  27.1   57        0\n",
       "..           ...      ...            ...   ...  ...      ...\n",
       "760            2       88             58  28.4   22        0\n",
       "761            9      170             74  44.0   43        1\n",
       "764            2      122             70  36.8   27        0\n",
       "765            5      121             72  26.2   30        0\n",
       "766            1      126             60  30.1   47        1\n",
       "\n",
       "[458 rows x 6 columns]"
      ]
     },
     "execution_count": 25,
     "metadata": {},
     "output_type": "execute_result"
    }
   ],
   "source": [
    "for column in rejected_variables:\n",
    "    if column in diabetes.columns:\n",
    "        diabetes.drop(column, axis=1, inplace=True)\n",
    "\n",
    "diabetes.drop(\"DiabetesPedigreeFunction\", axis=1, inplace=True)\n",
    "diabetes"
   ]
  },
  {
   "cell_type": "code",
   "execution_count": 26,
   "metadata": {},
   "outputs": [
    {
     "data": {
      "image/png": "[encoded data removed]",
      "text/plain": [
       "<Figure size 432x288 with 2 Axes>"
      ]
     },
     "metadata": {
      "needs_background": "light"
     },
     "output_type": "display_data"
    }
   ],
   "source": [
    "feature_1 = 'Glucose'\n",
    "feature_2 = 'BMI'\n",
    "\n",
    "plt.scatter(diabetes[feature_1], diabetes[feature_2], c=diabetes[\"Outcome\"], cmap='viridis')  # cmap is the colormap\n",
    "plt.colorbar(label='diabetes')  # Add colorbar to show the scale\n",
    "plt.xlabel(feature_1)  # Label for the x-axis\n",
    "plt.ylabel(feature_2)  # Label for the y-axis\n",
    "plt.title('Scatter Plot of Input Variables with Response Variable')  # Title of the plot\n",
    "plt.show()"
   ]
  },
  {
   "cell_type": "code",
   "execution_count": 27,
   "metadata": {},
   "outputs": [],
   "source": [
    "X = diabetes.iloc[:,:-1]\n",
    "y = diabetes.iloc[:,-1]"
   ]
  },
  {
   "cell_type": "code",
   "execution_count": 28,
   "metadata": {},
   "outputs": [],
   "source": [
    "numerical_columns = X.select_dtypes(include=[np.number]).columns\n",
    "categorical_columns = X.select_dtypes(include=[object]).columns"
   ]
  },
  {
   "cell_type": "code",
   "execution_count": 29,
   "metadata": {},
   "outputs": [],
   "source": [
    "numerical_transformation = Pipeline(steps=[\n",
    "    (\"imputer\", SimpleImputer(strategy=\"mean\")),\n",
    "    (\"scaler\", scaler)\n",
    "])"
   ]
  },
  {
   "cell_type": "code",
   "execution_count": 30,
   "metadata": {},
   "outputs": [],
   "source": [
    "categorical_transformation = Pipeline(steps=[\n",
    "    (\"imputer\", SimpleImputer(strategy=\"most_frequent\")),\n",
    "    (\"onehot\", OneHotEncoder(handle_unknown=\"ignore\"))\n",
    "])"
   ]
  },
  {
   "cell_type": "code",
   "execution_count": 31,
   "metadata": {},
   "outputs": [],
   "source": [
    "preprocessor = ColumnTransformer(transformers=[\n",
    "    (\"num\", numerical_transformation, numerical_columns),\n",
    "    (\"cat\", categorical_transformation, categorical_columns)\n",
    "])"
   ]
  },
  {
   "cell_type": "code",
   "execution_count": 32,
   "metadata": {},
   "outputs": [],
   "source": [
    "X_train, X_test, y_train, y_test = train_test_split(X, y, test_size=0.2)"
   ]
  },
  {
   "cell_type": "code",
   "execution_count": 33,
   "metadata": {},
   "outputs": [],
   "source": [
    "number_of_rows = len(diabetes)\n",
    "val = round(math.sqrt(number_of_rows))\n",
    "if val%2 == 0:\n",
    "    K = val\n",
    "else:\n",
    "    K = val-1\n",
    "\n",
    "model_1 = KNeighborsClassifier()\n",
    "model_2 = svm.SVC()\n",
    "model_3 = LogisticRegression()\n",
    "model_4 = DecisionTreeClassifier()\n",
    "model_5 = GaussianNB()\n",
    "model_6 = RandomForestClassifier()\n",
    "model_7 = XGBClassifier()\n",
    "model_8 = HistGradientBoostingClassifier()\n",
    "model_9 = AdaBoostClassifier()\n",
    "model_10 = ExtraTreesClassifier()\n",
    "\n",
    "models1 = [model_1, model_4, model_8]\n",
    "models2 = [model_6, model_5, model_7]\n",
    "models3 = [model_3, model_10, model_9]\n",
    "\n",
    "\n"
   ]
  },
  {
   "cell_type": "code",
   "execution_count": 34,
   "metadata": {},
   "outputs": [
    {
     "name": "stdout",
     "output_type": "stream",
     "text": [
      "\u001b[1m\n",
      "**Model 1**\n",
      "\u001b[0m\n",
      "Best parameters:OrderedDict([('model__algorithm', 'ball_tree'), ('model__metric', 'manhattan'), ('model__n_neighbors', 15), ('model__weights', 'distance')])\n",
      "Best f1: 0.7479433432341234\n",
      "\u001b[1m\n",
      "**Model 2**\n",
      "\u001b[0m\n",
      "Best parameters:OrderedDict([('model__C', 10.0), ('model__gamma', 'auto'), ('model__kernel', 'linear')])\n",
      "Best f1: 0.6878501428759922\n",
      "\u001b[1m\n",
      "**Model 3**\n",
      "\u001b[0m\n",
      "Best parameters:OrderedDict([('model__min_samples_leaf', 20), ('model__n_estimators', 50)])\n",
      "Best f1: 0.7471481724388063\n",
      "\u001b[1m\n",
      "**Model 4**\n",
      "\u001b[0m\n",
      "Best parameters:OrderedDict([('model__criterion', 'gini'), ('model__max_leaf_nodes', 20)])\n",
      "Best f1: 0.7513117408906883\n",
      "\u001b[1m\n",
      "**Model 5**\n",
      "\u001b[0m\n",
      "Best parameters:OrderedDict([('model__var_smoothing', 1e-07)])\n",
      "Best f1: 0.7142038246177007\n",
      "\u001b[1m\n",
      "**Model 6**\n",
      "\u001b[0m\n",
      "Best parameters:OrderedDict([('model__criterion', 'gini'), ('model__n_estimators', 100)])\n",
      "Best f1: 0.7493133444932545\n",
      "\u001b[1m\n",
      "**Model 7**\n",
      "\u001b[0m\n",
      "Best parameters:OrderedDict([('model__learning_rate', 0.1), ('model__n_estimators', 125)])\n",
      "Best f1: 0.7503374362459309\n",
      "\u001b[1m\n",
      "**Model 8**\n",
      "\u001b[0m\n",
      "Best parameters:OrderedDict([('model__learning_rate', 0.75), ('model__min_samples_leaf', 50)])\n",
      "Best f1: 0.71045253431076\n",
      "\u001b[1m\n",
      "**Model 9**\n",
      "\u001b[0m\n",
      "Best parameters:OrderedDict([('model__learning_rate', 0.1), ('model__n_estimators', 120)])\n",
      "Best f1: 0.7538261475645675\n"
     ]
    }
   ],
   "source": [
    "models = [model_1, model_2, model_10, model_4, model_5, model_6, model_7, model_8, model_9]\n",
    "\n",
    "best_params_list = [] \n",
    "i = 0\n",
    "for model in models:\n",
    "    pipe = Pipeline(steps=[\n",
    "        (\"preprocessor\", preprocessor),\n",
    "        (\"model\", model)\n",
    "    ])\n",
    "    i+=1\n",
    "    if i == 1:\n",
    "        param_grid = {\n",
    "        'model__n_neighbors': [K-15, K-10, K-5, K, K+5, K+10, K+15],\n",
    "        'model__weights': ['uniform', 'distance'],\n",
    "        'model__metric': ['euclidean', 'manhattan', 'minkowski'],\n",
    "        'model__algorithm': ['ball_tree', \"kd_tree\", \"brute\", \"auto\"]\n",
    "        }\n",
    "    elif i ==2:\n",
    "        param_grid = {'model__kernel': [\"linear\", \"poly\", 'rbf'],\n",
    "                      'model__C': [0.001, 0.01, 0.1, 1.0, 10.0],\n",
    "                      \"model__gamma\": [\"auto\"]\n",
    "                 }\n",
    "    elif i == 3:\n",
    "        param_grid = { 'model__n_estimators': [10, 20, 30, 50, 60, 85, 100, 110, 120, 140, 150, 175, 200],\n",
    "            'model__min_samples_leaf': [1, 3, 5, 7, 10, 15, 20, 25, 30, 35, 40, 45, 50],\n",
    "                     }\n",
    "    elif i == 4:\n",
    "        param_grid = {'model__criterion': [\"gini\", \"entropy\"],\n",
    "                  'model__max_leaf_nodes': [2, 5, 10, 20, 30, 50]\n",
    "                 }\n",
    "    elif i == 5:\n",
    "        param_grid = {'model__var_smoothing': [10**-6, 10**-7,10**-8, 10**-9, 10**-10]\n",
    "                     }     \n",
    "    elif i == 6:\n",
    "        param_grid = {'model__n_estimators': [50, 75, 100, 125, 150],\n",
    "                  'model__criterion': [\"gini\", \"entropy\"]\n",
    "                 }\n",
    "    elif i == 7:\n",
    "        param_grid = {'model__n_estimators': [50, 75, 100, 125, 150],\n",
    "                  'model__learning_rate': [0.01, 0.05, 0.1, 0.2, 0.3, 0.5]\n",
    "                 }\n",
    "    elif i == 8:\n",
    "        param_grid = {'model__learning_rate': [0.05, 0.1, 0.2, 0.35, 0.5, 0.6, 0.75, 0.9, 1],\n",
    "            'model__min_samples_leaf': [1, 3, 5, 7, 10, 15, 20, 25, 30, 35, 40, 45, 50],\n",
    "                }   \n",
    "    else:\n",
    "        param_grid = { 'model__learning_rate': [0.05, 0.1, 0.2, 0.35, 0.5, 0.6, 0.75, 0.9, 1],\n",
    "            'model__n_estimators': [10, 20, 40, 50, 60, 70, 80, 90, 100, 110, 120, 130, 140, 150]\n",
    "                 }\n",
    "        \n",
    "\n",
    "    # Create the grid search object\n",
    "    bayes_search = BayesSearchCV(pipe, param_grid, scoring='f1', cv=5, n_jobs=4, n_iter=5)\n",
    "    # Perform the grid search\n",
    "    bayes_search.fit(X, y)\n",
    "\n",
    "    # Get the best parameters and best score\n",
    "    best_params = bayes_search.best_params_\n",
    "    best_score = bayes_search.best_score_\n",
    "    best_params_list.append(best_params)\n",
    "\n",
    "    print(f\"\\033[1m\\n**Model {i}**\\n\\033[0m\")\n",
    "    print(f\"Best parameters:{best_params}\")\n",
    "    print(f\"Best f1: {best_score}\")"
   ]
  },
  {
   "cell_type": "code",
   "execution_count": 35,
   "metadata": {},
   "outputs": [],
   "source": [
    "model_1 = KNeighborsClassifier(n_neighbors=best_params_list[0][\"model__n_neighbors\"], algorithm=best_params_list[0][\"model__algorithm\"], metric=best_params_list[0][\"model__metric\"], weights=best_params_list[0][\"model__weights\"])\n",
    "model_2 = svm.SVC(C=best_params_list[1][\"model__C\"], gamma=best_params_list[1][\"model__gamma\"], kernel=best_params_list[1][\"model__kernel\"] )\n",
    "model_10 = ExtraTreesClassifier(n_estimators=best_params_list[2][\"model__n_estimators\"], min_samples_leaf=best_params_list[2][\"model__min_samples_leaf\"])\n",
    "model_4 = DecisionTreeClassifier(criterion=best_params_list[3][\"model__criterion\"], max_leaf_nodes=best_params_list[3][\"model__max_leaf_nodes\"])\n",
    "model_5 = GaussianNB(var_smoothing=best_params_list[4][\"model__var_smoothing\"])\n",
    "model_6 = RandomForestClassifier(n_estimators=best_params_list[5][\"model__n_estimators\"], criterion=best_params_list[5][\"model__criterion\"])\n",
    "model_7 = XGBClassifier(n_estimators = best_params_list[6][\"model__n_estimators\"], learning_rate=best_params_list[6][\"model__learning_rate\"])\n",
    "model_8 = HistGradientBoostingClassifier(min_samples_leaf= best_params_list[7][\"model__min_samples_leaf\"], learning_rate=best_params_list[7][\"model__learning_rate\"])\n",
    "model_9 = AdaBoostClassifier(n_estimators= best_params_list[8][\"model__n_estimators\"], learning_rate=best_params_list[8][\"model__learning_rate\"])"
   ]
  },
  {
   "cell_type": "code",
   "execution_count": 36,
   "metadata": {},
   "outputs": [
    {
     "name": "stdout",
     "output_type": "stream",
     "text": [
      "The prediction for diabetes status:\n",
      "[0 1 0 0 0 0 0 1 1 0 0 0 0 1 0 1 0 0 0 1 0 0 0 1 1 0 0 1 1 0 0 0 1 0 0 0 1\n",
      " 0 1 0 1 0 1 0 1 1 0 0 1 0 1 1 1 0 0 0 0 0 1 0 1 0 1 0 1 0 0 1 1 0 0 0 0 0\n",
      " 0 1 1 0 1 0 1 0 0 1 0 0 0 0 1 0 0 1]\n",
      "\n",
      "The true status of the diabetes:\n",
      "102    0\n",
      "314    1\n",
      "229    0\n",
      "50     0\n",
      "416    0\n",
      "      ..\n",
      "682    0\n",
      "323    1\n",
      "742    0\n",
      "37     1\n",
      "689    1\n",
      "Name: Outcome, Length: 92, dtype: int64\n",
      "\n"
     ]
    }
   ],
   "source": [
    "model1 = StackingClassifier(classifiers=models1, meta_classifier=model_3)\n",
    "model2 = StackingClassifier(classifiers=models2, meta_classifier=model_3)\n",
    "model3 = StackingClassifier(classifiers=models3, meta_classifier=model_3)\n",
    "\n",
    "model = VotingClassifier(estimators=[('S1', model1), \n",
    "                                   ('S2', model2), ('S3', model3)])\n",
    "model = model_3\n",
    "# Remove the `sample_weight` argument\n",
    "model.fit(X_train, y_train)\n",
    "y_pred = model.predict(X_test)\n",
    "print(f\"The prediction for diabetes status:\\n{y_pred}\\n\")\n",
    "print(f\"The true status of the diabetes:\\n{y_test}\\n\")"
   ]
  },
  {
   "cell_type": "code",
   "execution_count": 37,
   "metadata": {},
   "outputs": [
    {
     "name": "stdout",
     "output_type": "stream",
     "text": [
      "The confusion matrix is:\n",
      " [[38  8]\n",
      " [20 26]]\n",
      "\n"
     ]
    }
   ],
   "source": [
    "cm = confusion_matrix(y_test, y_pred)\n",
    "print(f\"The confusion matrix is:\\n {cm}\\n\")"
   ]
  },
  {
   "cell_type": "code",
   "execution_count": 38,
   "metadata": {},
   "outputs": [
    {
     "name": "stdout",
     "output_type": "stream",
     "text": [
      "The accuracy is: 0.6957\n",
      "\n"
     ]
    }
   ],
   "source": [
    "accuracy = accuracy_score(y_test, y_pred)\n",
    "print(f\"The accuracy is: {accuracy:.4f}\\n\")"
   ]
  },
  {
   "cell_type": "code",
   "execution_count": 39,
   "metadata": {},
   "outputs": [
    {
     "name": "stdout",
     "output_type": "stream",
     "text": [
      "The f1_score is: 0.6500\n",
      "\n"
     ]
    }
   ],
   "source": [
    "f1_score = f1_score(y_test, y_pred)\n",
    "print(f\"The f1_score is: {f1_score:.4f}\\n\")"
   ]
  },
  {
   "cell_type": "code",
   "execution_count": 40,
   "metadata": {},
   "outputs": [
    {
     "name": "stdout",
     "output_type": "stream",
     "text": [
      "The AUC is: 0.6957\n",
      "\n"
     ]
    }
   ],
   "source": [
    "fpr, tpr, thresholds = roc_curve(y_test, y_pred)\n",
    "auc = roc_auc_score(y_test, y_pred)\n",
    "print(f\"The AUC is: {auc:.4f}\\n\")"
   ]
  },
  {
   "cell_type": "code",
   "execution_count": 41,
   "metadata": {},
   "outputs": [
    {
     "data": {
      "text/plain": [
       "<matplotlib.legend.Legend at 0x1a27e261c48>"
      ]
     },
     "execution_count": 41,
     "metadata": {},
     "output_type": "execute_result"
    },
    {
     "data": {
      "image/png": "[encoded data removed]",
      "text/plain": [
       "<Figure size 576x432 with 1 Axes>"
      ]
     },
     "metadata": {
      "needs_background": "light"
     },
     "output_type": "display_data"
    }
   ],
   "source": [
    "plt.figure(figsize=(8, 6))\n",
    "plt.plot(fpr, tpr, color='blue', lw=2, label='ROC curve (AUC = %0.2f)' % auc)\n",
    "plt.plot([0, 1], [0, 1], color='gray', linestyle='--')\n",
    "plt.xlim([0.0, 1.05])\n",
    "plt.ylim([0.0, 1.05])\n",
    "plt.xlabel('False Positive Rate')\n",
    "plt.ylabel('True Positive Rate')\n",
    "plt.title('Receiver Operating Characteristic (ROC) Curve')\n",
    "plt.legend(loc='lower right')"
   ]
  },
  {
   "cell_type": "code",
   "execution_count": 42,
   "metadata": {},
   "outputs": [],
   "source": [
    "# import pickle\n",
    "import pickle\n",
    "\n",
    "# Make pickle file of our model\n",
    "pickle.dump(model, open(\"model.pkl\", \"wb\"))\n",
    "pickle.dump(accuracy, open(\"accuracy.pkl\", \"wb\"))"
   ]
  }
 ],
 "metadata": {
  "kernelspec": {
   "display_name": "Python 3",
   "language": "python",
   "name": "python3"
  },
  "language_info": {
   "codemirror_mode": {
    "name": "ipython",
    "version": 3
   },
   "file_extension": ".py",
   "mimetype": "text/x-python",
   "name": "python",
   "nbconvert_exporter": "python",
   "pygments_lexer": "ipython3",
   "version": "3.7.4"
  }
 },
 "nbformat": 4,
 "nbformat_minor": 2
}
