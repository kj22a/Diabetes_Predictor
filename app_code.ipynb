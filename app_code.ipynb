{
 "cells": [
  {
   "cell_type": "code",
   "execution_count": null,
   "metadata": {},
   "outputs": [
    {
     "name": "stdout",
     "output_type": "stream",
     "text": [
      " * Serving Flask app \"__main__\" (lazy loading)\n",
      " * Environment: production\n",
      "   WARNING: This is a development server. Do not use it in a production deployment.\n",
      "   Use a production WSGI server instead.\n",
      " * Debug mode: off\n"
     ]
    },
    {
     "name": "stderr",
     "output_type": "stream",
     "text": [
      " * Running on http://127.0.0.1:65269/ (Press CTRL+C to quit)\n",
      "127.0.0.1 - - [06/Apr/2024 16:24:32] \"GET / HTTP/1.1\" 200 -\n",
      "127.0.0.1 - - [06/Apr/2024 16:24:32] \"GET /favicon.ico HTTP/1.1\" 404 -\n"
     ]
    }
   ],
   "source": [
    "from flask import Flask, render_template, request\n",
    "import pickle\n",
    "\n",
    "app = Flask(__name__)\n",
    "app.secret_key = \"hello\"\n",
    "\n",
    "# Load the model\n",
    "model = pickle.load(open(\"model.pkl\", \"rb\"))\n",
    "accuracy = pickle.load(open(\"accuracy.pkl\", \"rb\"))\n",
    "\n",
    "\n",
    "@app.route(\"/\")\n",
    "def home():\n",
    "    return render_template(\"resp.html\")\n",
    "\n",
    "@app.route(\"/predict\", methods=[\"POST\"])\n",
    "def predict():\n",
    "    if request.method == \"POST\":\n",
    "        # Extract input values from the form\n",
    "        pregnancies = float(request.form['Pregnancies'])\n",
    "        glucose = float(request.form['Glucose'])\n",
    "        blood_pressure = float(request.form['BloodPressure'])\n",
    "        height = float(request.form['Height'])\n",
    "        weight = float(request.form['Weight'])\n",
    "        age = float(request.form['Age'])\n",
    "        bmi = weight/((height)**2)\n",
    "        # Perform prediction using your model\n",
    "        #prediction = model.predict([[pregnancies, glucose, blood_pressure, bmi, age]])\n",
    "        prediction = model.predict([[pregnancies, glucose, blood_pressure, bmi, age]])[0]\n",
    "        \n",
    "        text = f\"Based on our analysis, there is a {100 * accuracy:.1f}% probability that \"\n",
    "\n",
    "        if prediction == 0:\n",
    "            text += \"you have a low risk of developing diabetes. \"\n",
    "        else:\n",
    "            text += \"you have a high risk of developing diabetes. \"\n",
    "        # Pass the prediction result to the template\n",
    "        return render_template(\"resp.html\", prediction_text=text)\n",
    "\n",
    "if __name__ == \"__main__\":\n",
    "    app.run(port=65269)\n"
   ]
  },
  {
   "cell_type": "code",
   "execution_count": null,
   "metadata": {},
   "outputs": [],
   "source": []
  },
  {
   "cell_type": "code",
   "execution_count": null,
   "metadata": {},
   "outputs": [],
   "source": []
  },
  {
   "cell_type": "code",
   "execution_count": null,
   "metadata": {},
   "outputs": [],
   "source": []
  },
  {
   "cell_type": "code",
   "execution_count": null,
   "metadata": {},
   "outputs": [],
   "source": []
  }
 ],
 "metadata": {
  "kernelspec": {
   "display_name": "Python 3",
   "language": "python",
   "name": "python3"
  },
  "language_info": {
   "codemirror_mode": {
    "name": "ipython",
    "version": 3
   },
   "file_extension": ".py",
   "mimetype": "text/x-python",
   "name": "python",
   "nbconvert_exporter": "python",
   "pygments_lexer": "ipython3",
   "version": "3.7.4"
  }
 },
 "nbformat": 4,
 "nbformat_minor": 2
}
